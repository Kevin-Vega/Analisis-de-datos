{
 "cells": [
  {
   "cell_type": "code",
   "execution_count": 1,
   "id": "1e223ad9",
   "metadata": {},
   "outputs": [],
   "source": [
    "import pandas as pd\n",
    "import matplotlib.pyplot as plt\n",
    "import seaborn as sns\n",
    "from sklearn.model_selection import train_test_split\n",
    "from sklearn.neighbors import KNeighborsClassifier\n",
    "from sklearn.metrics import accuracy_score, confusion_matrix"
   ]
  },
  {
   "cell_type": "code",
   "execution_count": 5,
   "id": "00bcaeaa",
   "metadata": {},
   "outputs": [],
   "source": [
    "# Cargar el conjunto de datos\n",
    "df = pd.read_csv(\"Dataset/covid.csv\")"
   ]
  },
  {
   "cell_type": "code",
   "execution_count": 6,
   "id": "3b6f22f4",
   "metadata": {},
   "outputs": [],
   "source": [
    "# Eliminar columnas no relevantes para el modelo\n",
    "eliminar_columnas = ['id', 'patient_type','entry_date','date_symptoms','date_died','other_disease','icu']\n",
    "df.drop(eliminar_columnas, axis=1, inplace=True)"
   ]
  },
  {
   "cell_type": "code",
   "execution_count": 7,
   "id": "5bd4fc30",
   "metadata": {},
   "outputs": [],
   "source": [
    "# Eliminar filas con valores de 98 o 99\n",
    "df = df[df['covid_res'] != 3]\n",
    "df = df[df['contact_other_covid'] != 99]\n",
    "df = df[df['tobacco'] != 98]\n",
    "df = df[df['obesity'] != 98]\n",
    "df = df[df['copd'] != 98]\n",
    "df = df[df['diabetes'] != 98]\n",
    "df = df[df['asthma'] != 98]\n",
    "df = df[df['inmsupr'] != 98]\n",
    "df = df[df['hypertension'] != 98]\n",
    "df = df[df['cardiovascular'] != 98]\n",
    "df = df[df['renal_chronic'] != 98]\n",
    "df = df[df['intubed'] != 98]\n",
    "df = df[df['pregnancy'] != 98]\n",
    "df = df[df['pneumonia'] != 98]"
   ]
  },
  {
   "cell_type": "code",
   "execution_count": 8,
   "id": "5766de17",
   "metadata": {},
   "outputs": [],
   "source": [
    "# Definir variables predictoras y variable objetivo\n",
    "X = df.drop('covid_res', axis=1)\n",
    "y = df['covid_res']"
   ]
  },
  {
   "cell_type": "code",
   "execution_count": null,
   "id": "fc97fb3b",
   "metadata": {},
   "outputs": [],
   "source": [
    "# Dividir los datos en conjuntos de entrenamiento y prueba\n",
    "X_train, X_test, y_train, y_test = train_test_split(X, y, test_size=0.3, random_state=1)"
   ]
  },
  {
   "cell_type": "code",
   "execution_count": null,
   "id": "57a5eb74",
   "metadata": {},
   "outputs": [],
   "source": [
    "# Definir modelo KNN\n",
    "model = KNeighborsClassifier(n_neighbors=5)"
   ]
  },
  {
   "cell_type": "code",
   "execution_count": null,
   "id": "062126aa",
   "metadata": {},
   "outputs": [],
   "source": [
    "# Entrenar modelo con conjunto de entrenamiento\n",
    "model.fit(X_train, y_train)"
   ]
  },
  {
   "cell_type": "code",
   "execution_count": null,
   "id": "f73a5968",
   "metadata": {},
   "outputs": [],
   "source": [
    "# Predecir resultados para conjunto de prueba\n",
    "y_pred = model.predict(X_test)"
   ]
  },
  {
   "cell_type": "code",
   "execution_count": null,
   "id": "d00712d1",
   "metadata": {},
   "outputs": [],
   "source": [
    "# Evaluar el desempeño del modelo\n",
    "accuracy = accuracy_score(y_test, y_pred)\n",
    "print(\"La presicion del modelo es:\", accuracy * 100)"
   ]
  },
  {
   "cell_type": "code",
   "execution_count": null,
   "id": "cce160ae",
   "metadata": {},
   "outputs": [],
   "source": [
    "# Crear matriz de confusion\n",
    "conf_mat = confusion_matrix(y_test, y_pred)"
   ]
  },
  {
   "cell_type": "code",
   "execution_count": null,
   "id": "448b0924",
   "metadata": {},
   "outputs": [],
   "source": [
    "# Visualizar matriz de confusion\n",
    "fig, ax = plt.subplots(figsize=(6,4))\n",
    "sns.heatmap(conf_mat, annot=True, cmap=\"Blues\", fmt=\"d\", xticklabels=[\"Negativo\", \"Positivo\"], yticklabels=[\"Negativo\", \"Positivo\"])\n",
    "ax.set_xlabel('Prediccion')\n",
    "ax.set_ylabel('Valor real')\n",
    "ax.set_title('Matriz de confusion')\n",
    "plt.show()"
   ]
  }
 ],
 "metadata": {
  "kernelspec": {
   "display_name": "Python 3",
   "language": "python",
   "name": "python3"
  },
  "language_info": {
   "codemirror_mode": {
    "name": "ipython",
    "version": 3
   },
   "file_extension": ".py",
   "mimetype": "text/x-python",
   "name": "python",
   "nbconvert_exporter": "python",
   "pygments_lexer": "ipython3",
   "version": "3.8.8"
  }
 },
 "nbformat": 4,
 "nbformat_minor": 5
}
