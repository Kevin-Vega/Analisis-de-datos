{
 "cells": [
  {
   "cell_type": "code",
   "execution_count": null,
   "id": "ccf492ed",
   "metadata": {},
   "outputs": [],
   "source": [
    "import numpy as np\n",
    "import pandas as pd\n",
    "from sklearn.naive_bayes import GaussianNB\n",
    "from sklearn.preprocessing import LabelEncoder\n",
    "from sklearn.model_selection import train_test_split\n",
    "from sklearn import metrics\n",
    "from sklearn.metrics import confusion_matrix\n",
    "import seaborn as sns\n",
    "import matplotlib.pyplot as plt"
   ]
  },
  {
   "cell_type": "code",
   "execution_count": null,
   "id": "b5ce9dcd",
   "metadata": {},
   "outputs": [],
   "source": [
    "# Cargar el conjunto de datos\n",
    "df = pd.read_csv(\"Dataset/covid.csv\")"
   ]
  },
  {
   "cell_type": "code",
   "execution_count": null,
   "id": "44da9151",
   "metadata": {},
   "outputs": [],
   "source": [
    "# Eliminar columnas innecesarias\n",
    "eliminar_columnas = ['id', 'patient_type','entry_date','date_symptoms','date_died','other_disease','icu']\n",
    "df.drop(eliminar_columnas, axis=1, inplace=True)"
   ]
  },
  {
   "cell_type": "code",
   "execution_count": null,
   "id": "044691c9",
   "metadata": {},
   "outputs": [],
   "source": [
    "# Filtrar filas con valores de 98 y 99 en columnas específicas\n",
    "df = df[(df['covid_res'] != 3) & (df['contact_other_covid'] != 99) & (df['tobacco'] != 98) & \n",
    "        (df['obesity'] != 98) & (df['copd'] != 98) & (df['diabetes'] != 98) & \n",
    "        (df['asthma'] != 98) & (df['inmsupr'] != 98) & (df['hypertension'] != 98) & \n",
    "        (df['cardiovascular'] != 98) & (df['renal_chronic'] != 98) & (df['intubed'] != 98) & \n",
    "        (df['pregnancy'] != 98) & (df['pneumonia'] != 98)]"
   ]
  },
  {
   "cell_type": "code",
   "execution_count": null,
   "id": "fa71ee44",
   "metadata": {},
   "outputs": [],
   "source": [
    "# Asignar variables independientes y dependientes\n",
    "X = df.drop('covid_res', axis=1)\n",
    "y = df['covid_res']"
   ]
  },
  {
   "cell_type": "code",
   "execution_count": null,
   "id": "4c143c82",
   "metadata": {},
   "outputs": [],
   "source": [
    "# Dividir los datos en conjuntos de entrenamiento y prueba\n",
    "X_train, X_test, y_train, y_test = train_test_split(X, y, test_size=0.3, random_state=42)"
   ]
  },
  {
   "cell_type": "code",
   "execution_count": null,
   "id": "7b87b670",
   "metadata": {},
   "outputs": [],
   "source": [
    "# Entrenar el modelo Naive Bayes\n",
    "naive_bayes = GaussianNB()\n",
    "naive_bayes.fit(X_train, y_train)"
   ]
  },
  {
   "cell_type": "code",
   "execution_count": null,
   "id": "7d9d5a7b",
   "metadata": {},
   "outputs": [],
   "source": [
    "# Obtener las predicciones en el conjunto de prueba\n",
    "y_pred = naive_bayes.predict(X_test)"
   ]
  },
  {
   "cell_type": "code",
   "execution_count": null,
   "id": "22204913",
   "metadata": {},
   "outputs": [],
   "source": [
    "# Evaluar el desempeño del modelo\n",
    "accuracy = metrics.accuracy_score(y_test, y_pred)\n",
    "print(\"La precisión del modelo es: {:.2f}% \".format(accuracy*100))"
   ]
  },
  {
   "cell_type": "code",
   "execution_count": null,
   "id": "ee4d8c5b",
   "metadata": {},
   "outputs": [],
   "source": [
    "# Crear la matriz de confusion\n",
    "cm = confusion_matrix(y_test, y_pred)"
   ]
  },
  {
   "cell_type": "code",
   "execution_count": null,
   "id": "6acc411f",
   "metadata": {},
   "outputs": [],
   "source": [
    "# Graficar la matriz de confusion\n",
    "sns.heatmap(cm, annot=True, fmt='g')\n",
    "plt.xlabel('Predicted')\n",
    "plt.ylabel('Actual')\n",
    "plt.show()"
   ]
  },
  {
   "cell_type": "code",
   "execution_count": null,
   "id": "f3e9799a",
   "metadata": {},
   "outputs": [],
   "source": [
    "# Crear una fila con los datos del usuario\n",
    "usuario = pd.DataFrame({\n",
    "    'sex':2,\n",
    "    'intubed':2,\n",
    "    'pneumonia':2,\n",
    "    'age':35,\n",
    "    'pregnancy':2,\n",
    "    'diabetes':2,\n",
    "    'copd':2,\n",
    "    'asthma':2,\n",
    "    'inmsupr':2,\n",
    "    'hypertension':2,\n",
    "    'cardiovascular':2,\n",
    "    'obesity':2,\n",
    "    'renal_chronic':2,\n",
    "    'tobacco':2,\n",
    "    'contact_other_covid':2,\n",
    "}, index=[0])"
   ]
  },
  {
   "cell_type": "code",
   "execution_count": null,
   "id": "1649773f",
   "metadata": {},
   "outputs": [],
   "source": [
    "# Realizar prediccion\n",
    "probabilidad = naive_bayes.predict_proba(usuario)[0][1]"
   ]
  },
  {
   "cell_type": "code",
   "execution_count": null,
   "id": "43104087",
   "metadata": {},
   "outputs": [],
   "source": [
    "# Imprimir el resultado de la probabilidad\n",
    "print(\"Probabilidad de COVID 19: {:2.0f}%\".format(probabilidad*100))"
   ]
  }
 ],
 "metadata": {
  "kernelspec": {
   "display_name": "Python 3",
   "language": "python",
   "name": "python3"
  },
  "language_info": {
   "codemirror_mode": {
    "name": "ipython",
    "version": 3
   },
   "file_extension": ".py",
   "mimetype": "text/x-python",
   "name": "python",
   "nbconvert_exporter": "python",
   "pygments_lexer": "ipython3",
   "version": "3.8.8"
  }
 },
 "nbformat": 4,
 "nbformat_minor": 5
}
