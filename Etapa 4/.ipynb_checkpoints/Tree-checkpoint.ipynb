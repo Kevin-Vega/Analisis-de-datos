{
 "cells": [
  {
   "cell_type": "code",
   "execution_count": null,
   "id": "9b84c334",
   "metadata": {},
   "outputs": [],
   "source": [
    "# Importar las librerías necesarias\n",
    "import pandas as pd\n",
    "from sklearn.tree import DecisionTreeClassifier\n",
    "from sklearn.model_selection import train_test_split\n",
    "from sklearn.metrics import accuracy_score\n",
    "from sklearn.tree import export_graphviz\n",
    "import graphviz"
   ]
  },
  {
   "cell_type": "code",
   "execution_count": null,
   "id": "f1a4282a",
   "metadata": {},
   "outputs": [],
   "source": [
    "# Cargar el conjunto de datos\n",
    "pd.read_csv(\"Dataset/covid.csv\")\n",
    "df = pd.read_csv(\"Dataset/covid.csv\")\n",
    "df.head()"
   ]
  },
  {
   "cell_type": "code",
   "execution_count": null,
   "id": "fc17c685",
   "metadata": {},
   "outputs": [],
   "source": [
    "# Purgamos la informacion que no necesitamos\n",
    "eliminar_columnas = ['id', 'patient_type','entry_date','date_symptoms','date_died','other_disease','icu']\n",
    "df.drop(eliminar_columnas, axis=1, inplace=True)\n",
    "df.head()"
   ]
  },
  {
   "cell_type": "code",
   "execution_count": null,
   "id": "3e88e067",
   "metadata": {},
   "outputs": [],
   "source": [
    "# Eliminamos registros con valores atípicos\n",
    "df=df[df['covid_res']!= 3]\n",
    "df=df[df['contact_other_covid']!= 99]\n",
    "df=df[df['tobacco']!= 98]\n",
    "df=df[df['obesity']!= 98]\n",
    "df=df[df['copd']!= 98]\n",
    "df=df[df['diabetes']!= 98]\n",
    "df=df[df['asthma']!= 98]\n",
    "df=df[df['inmsupr']!= 98]\n",
    "df=df[df['hypertension']!= 98]\n",
    "df=df[df['cardiovascular']!= 98]\n",
    "df=df[df['renal_chronic']!= 98]\n",
    "df=df[df['intubed']!= 98]\n",
    "df=df[df['pregnancy']!= 98]\n",
    "df=df[df['pneumonia']!= 98]"
   ]
  },
  {
   "cell_type": "code",
   "execution_count": null,
   "id": "332aa616",
   "metadata": {},
   "outputs": [],
   "source": [
    "# Separamos las caracteristicas en nuestra variable objetivo\n",
    "X = df.drop('covid_res', axis=1)\n",
    "y = df['covid_res']"
   ]
  },
  {
   "cell_type": "code",
   "execution_count": null,
   "id": "4d6098eb",
   "metadata": {},
   "outputs": [],
   "source": [
    "# Dividimos los datos en conjuntos de entrenamiento y prueba\n",
    "X_train, X_test, y_train, y_test = train_test_split(X, y, test_size=0.3, random_state=1)"
   ]
  },
  {
   "cell_type": "code",
   "execution_count": null,
   "id": "f1821cb5",
   "metadata": {},
   "outputs": [],
   "source": [
    "# Creamos una instancia del modelo de árbol de decisión\n",
    "arbol_decision = DecisionTreeClassifier(random_state=1)"
   ]
  },
  {
   "cell_type": "code",
   "execution_count": null,
   "id": "b7394d43",
   "metadata": {},
   "outputs": [],
   "source": [
    "# Entrenamos el modelo con el conjunto de entrenamiento\n",
    "arbol_decision.fit(X_train, y_train)"
   ]
  },
  {
   "cell_type": "code",
   "execution_count": null,
   "id": "db368592",
   "metadata": {},
   "outputs": [],
   "source": [
    "# Utilizar el modelo para hacer preddciones en el conjunto de prueba\n",
    "y_pred = arbol_decision.predict(X_test)"
   ]
  },
  {
   "cell_type": "code",
   "execution_count": null,
   "id": "790d6e27",
   "metadata": {},
   "outputs": [],
   "source": [
    "# Evaluamos el desempeño del modelo\n",
    "accuracy = accuracy_score(y_test, y_pred)\n",
    "print(\"La precisión del modelo es: \", accuracy * 100)"
   ]
  },
  {
   "cell_type": "code",
   "execution_count": null,
   "id": "e0e464db",
   "metadata": {},
   "outputs": [],
   "source": [
    "# Creamos una instancia del modelo de árbol de decisión con límites\n",
    "arbol_decision = DecisionTreeClassifier(max_depth=3, min_samples_split=10)\n",
    "arbol_decision.fit(X_train, y_train)"
   ]
  },
  {
   "cell_type": "code",
   "execution_count": null,
   "id": "964dce20",
   "metadata": {},
   "outputs": [],
   "source": [
    "# Exportamos el modelo en formato dot\n",
    "export_graphviz(arbol_decision, out_file='arbol_decision.dot', \n",
    "               feature_names=X.columns.values, filled=True, rounded=True, special_characters=True)"
   ]
  },
  {
   "cell_type": "code",
   "execution_count": null,
   "id": "1d3e19b3",
   "metadata": {},
   "outputs": [],
   "source": [
    "# Visualizamos el modelo\n",
    "with open('arbol_decision.dot') as f:\n",
    "    dot_graph = f.read()\n",
    "graph = graphviz.Source(dot_graph)\n",
    "graph"
   ]
  }
 ],
 "metadata": {
  "kernelspec": {
   "display_name": "Python 3",
   "language": "python",
   "name": "python3"
  },
  "language_info": {
   "codemirror_mode": {
    "name": "ipython",
    "version": 3
   },
   "file_extension": ".py",
   "mimetype": "text/x-python",
   "name": "python",
   "nbconvert_exporter": "python",
   "pygments_lexer": "ipython3",
   "version": "3.8.8"
  }
 },
 "nbformat": 4,
 "nbformat_minor": 5
}
